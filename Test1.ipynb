{
  "nbformat": 4,
  "nbformat_minor": 0,
  "metadata": {
    "colab": {
      "provenance": [],
      "authorship_tag": "ABX9TyM3EEJBSP+9LVv6xLICngOL",
      "include_colab_link": true
    },
    "kernelspec": {
      "name": "python3",
      "display_name": "Python 3"
    },
    "language_info": {
      "name": "python"
    }
  },
  "cells": [
    {
      "cell_type": "markdown",
      "metadata": {
        "id": "view-in-github",
        "colab_type": "text"
      },
      "source": [
        "<a href=\"https://colab.research.google.com/github/mostafamache/Site/blob/master/Test1.ipynb\" target=\"_parent\"><img src=\"https://colab.research.google.com/assets/colab-badge.svg\" alt=\"Open In Colab\"/></a>"
      ]
    },
    {
      "cell_type": "code",
      "execution_count": null,
      "metadata": {
        "id": "Pl3MXl2jzX6O"
      },
      "outputs": [],
      "source": []
    },
    {
      "cell_type": "markdown",
      "source": [
        "**1) Calculer le produit de deux nombres**"
      ],
      "metadata": {
        "id": "e_ow_MODzdQs"
      }
    },
    {
      "cell_type": "code",
      "source": [
        "# prompt: calculer le produit de deux nombres\n",
        "\n",
        "def multiplier(a, b):\n",
        "  return a * b\n",
        "a = float(input(\"Entrez le nombre a: \"))\n",
        "b = float(input(\"Entrez le nombre b: \"))\n",
        "print(multiplier(a, b))"
      ],
      "metadata": {
        "id": "AWCmlgvEzfnb"
      },
      "execution_count": null,
      "outputs": []
    },
    {
      "cell_type": "markdown",
      "source": [
        "**2) Tracer une courbe**\n"
      ],
      "metadata": {
        "id": "06qD-W_w0mrd"
      }
    },
    {
      "cell_type": "code",
      "source": [
        "# prompt: inviter l'utilisateur À rentrer une fonction et la tracer\n",
        "\n",
        "import numpy as np\n",
        "import matplotlib.pyplot as plt\n",
        "\n",
        "def tracer_courbe():\n",
        "  fonction_str = input(\"Entrez la fonction (ex: x**2 - 3*x + 2): \")\n",
        "\n",
        "  def fonction(x):\n",
        "    return eval(fonction_str)\n",
        "\n",
        "  x = np.linspace(-10, 10, 100)\n",
        "  y = fonction(x)\n",
        "\n",
        "  plt.plot(x, y)\n",
        "  plt.xlabel('x')\n",
        "  plt.ylabel('y')\n",
        "  plt.title('Courbe de la fonction: ' + fonction_str)\n",
        "  plt.grid(True)\n",
        "  plt.show()\n",
        "\n",
        "tracer_courbe()\n"
      ],
      "metadata": {
        "id": "0Hy0rrKw06WL"
      },
      "execution_count": null,
      "outputs": []
    },
    {
      "cell_type": "markdown",
      "source": [
        "**3) Calculer la dérivée d'une fonctiontexte en gras**"
      ],
      "metadata": {
        "id": "zdwV-xjU1f6B"
      }
    },
    {
      "cell_type": "code",
      "source": [
        "# prompt: inviter l'utilisateur à rentrer une fonction et calculer sa dérivée\n",
        "\n",
        "from sympy import *\n",
        "\n",
        "x = Symbol('x')\n",
        "fonction_str = input(\"Entrez la fonction (ex: x**2 - 3*x + 2): \")\n",
        "fonction = sympify(fonction_str)\n",
        "\n",
        "derivee = diff(fonction, x)\n",
        "\n",
        "print(\"La dérivée de la fonction est :\", derivee)\n"
      ],
      "metadata": {
        "id": "j-J1cWo03KmZ"
      },
      "execution_count": null,
      "outputs": []
    },
    {
      "cell_type": "markdown",
      "source": [],
      "metadata": {
        "id": "FuVVHPkI0b9z"
      }
    }
  ]
}